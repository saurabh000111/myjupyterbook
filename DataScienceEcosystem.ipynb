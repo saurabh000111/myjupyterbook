{
 "cells": [
  {
   "cell_type": "markdown",
   "id": "ff338f2c-c1a1-48dd-87ea-efb178b6df4a",
   "metadata": {},
   "source": [
    "# Data Science Tools and Ecosystem"
   ]
  },
  {
   "cell_type": "markdown",
   "id": "bd8aa974-cf8d-4040-9351-3dc077fab213",
   "metadata": {},
   "source": [
    "## Create a markdown cell for an introduction"
   ]
  },
  {
   "cell_type": "markdown",
   "id": "435243d4-bb51-4381-9291-ae2a74112d29",
   "metadata": {},
   "source": [
    "## Some of the popular languages that Data Scientists use are:\n",
    "1. Python\n",
    "2. R\n",
    "3. Java"
   ]
  },
  {
   "cell_type": "markdown",
   "id": "bbd14b34-07af-42d5-8933-8ef248448de7",
   "metadata": {},
   "source": [
    "## Some of the commonly used libraries used by Data Scientists include:\n",
    "1. Panda\n",
    "3. Numpy\n",
    "4. Seaborn"
   ]
  },
  {
   "cell_type": "markdown",
   "id": "26d64a11-ec42-4c92-8e8c-2b013f9bc265",
   "metadata": {},
   "source": [
    "## Some of the commonly used libraries used by Data Scientists include:\n",
    "1. Panda\n",
    "3. Numpy\n",
    "4. Seaborn"
   ]
  },
  {
   "cell_type": "markdown",
   "id": "56d02c7e-6294-4110-9897-052f6d541fe2",
   "metadata": {},
   "source": [
    "## Some of the commonly used libraries used by Data Scientists include:\n",
    "1. Panda\n",
    "3. Numpy\n",
    "4. Seaborn"
   ]
  },
  {
   "cell_type": "markdown",
   "id": "7a58d294-7956-4e23-ac71-c79577d969fa",
   "metadata": {},
   "source": [
    "| Data Science Tools |\n",
    "|:---------|\n",
    "|  Jupyter   | \n",
    "|  Spider   |  \n",
    "|  Vs Code   |"
   ]
  },
  {
   "cell_type": "code",
   "execution_count": 7,
   "id": "e090bca8-a62b-4f49-9d11-317ba8e3dafc",
   "metadata": {},
   "outputs": [
    {
     "name": "stdout",
     "output_type": "stream",
     "text": [
      "17\n"
     ]
    }
   ],
   "source": [
    "# This a simple arithmetic expression to mutiply then add integers.\n",
    "result = (3*4)+5\n",
    "print(result)"
   ]
  },
  {
   "cell_type": "code",
   "execution_count": 12,
   "id": "a929a014-0e22-4df2-931e-83b6c2affe79",
   "metadata": {},
   "outputs": [
    {
     "name": "stdout",
     "output_type": "stream",
     "text": [
      "3.3333333333333335\n"
     ]
    }
   ],
   "source": [
    "#  This will convert 200 minutes to hours by diving by 60\n",
    "hr = 200/60\n",
    "print(hr)"
   ]
  },
  {
   "cell_type": "markdown",
   "id": "8ae0a680-fa66-42f3-8ea8-6eab228442c7",
   "metadata": {},
   "source": [
    "# Objectives: Tools used in Data Science \n",
    "- **Popular language is Python, R, Julia, Scala etc.**\n",
    "- **Popular IDE is Jupyter, Spider, Vs Code etc.**\n",
    "- **Popular Library  is Panda, Numpy, SciKit etc.**"
   ]
  },
  {
   "cell_type": "markdown",
   "id": "144f564d-5542-4963-8a78-8d5c44443559",
   "metadata": {},
   "source": [
    "## Author\n",
    "Saurabh Yadav"
   ]
  },
  {
   "cell_type": "code",
   "execution_count": null,
   "id": "4b82e4c6-d367-4830-a06e-db2e494eac64",
   "metadata": {},
   "outputs": [],
   "source": []
  }
 ],
 "metadata": {
  "kernelspec": {
   "display_name": "Python [conda env:base] *",
   "language": "python",
   "name": "conda-base-py"
  },
  "language_info": {
   "codemirror_mode": {
    "name": "ipython",
    "version": 3
   },
   "file_extension": ".py",
   "mimetype": "text/x-python",
   "name": "python",
   "nbconvert_exporter": "python",
   "pygments_lexer": "ipython3",
   "version": "3.13.5"
  }
 },
 "nbformat": 4,
 "nbformat_minor": 5
}
